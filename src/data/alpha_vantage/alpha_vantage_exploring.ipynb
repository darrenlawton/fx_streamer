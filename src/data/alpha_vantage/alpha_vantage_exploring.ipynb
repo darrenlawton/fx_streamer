{
 "cells": [
  {
   "cell_type": "code",
   "execution_count": 5,
   "metadata": {},
   "outputs": [
    {
     "name": "stdout",
     "output_type": "stream",
     "text": [
      "Collecting alpha_vantage\n",
      "  Using cached https://files.pythonhosted.org/packages/7a/6c/81c7f1c58064cb2ce808edc6c4cdb3241f70bf8cd158289540cdf9fe0204/alpha_vantage-2.1.0.tar.gz\n",
      "Collecting requests (from alpha_vantage)\n",
      "  Using cached https://files.pythonhosted.org/packages/51/bd/23c926cd341ea6b7dd0b2a00aba99ae0f828be89d72b2190f27c11d4b7fb/requests-2.22.0-py2.py3-none-any.whl\n",
      "Collecting idna<2.9,>=2.5 (from requests->alpha_vantage)\n",
      "  Using cached https://files.pythonhosted.org/packages/14/2c/cd551d81dbe15200be1cf41cd03869a46fe7226e7450af7a6545bfc474c9/idna-2.8-py2.py3-none-any.whl\n",
      "Collecting certifi>=2017.4.17 (from requests->alpha_vantage)\n",
      "  Using cached https://files.pythonhosted.org/packages/69/1b/b853c7a9d4f6a6d00749e94eb6f3a041e342a885b87340b79c1ef73e3a78/certifi-2019.6.16-py2.py3-none-any.whl\n",
      "Collecting urllib3!=1.25.0,!=1.25.1,<1.26,>=1.21.1 (from requests->alpha_vantage)\n",
      "  Using cached https://files.pythonhosted.org/packages/e6/60/247f23a7121ae632d62811ba7f273d0e58972d75e58a94d329d51550a47d/urllib3-1.25.3-py2.py3-none-any.whl\n",
      "Collecting chardet<3.1.0,>=3.0.2 (from requests->alpha_vantage)\n",
      "  Using cached https://files.pythonhosted.org/packages/bc/a9/01ffebfb562e4274b6487b4bb1ddec7ca55ec7510b22e4c51f14098443b8/chardet-3.0.4-py2.py3-none-any.whl\n",
      "Building wheels for collected packages: alpha-vantage\n",
      "  Running setup.py bdist_wheel for alpha-vantage ... \u001b[?25ldone\n",
      "\u001b[?25h  Stored in directory: /home/darrenlawton/.cache/pip/wheels/21/9c/02/b7cfae63f7119f4089f229ba1a09ce90fabbaf96199c2890be\n",
      "Successfully built alpha-vantage\n",
      "Installing collected packages: idna, certifi, urllib3, chardet, requests, alpha-vantage\n",
      "Successfully installed alpha-vantage-2.1.0 certifi-2019.6.16 chardet-3.0.4 idna-2.8 requests-2.22.0 urllib3-1.25.3\n"
     ]
    }
   ],
   "source": [
    "import sys\n",
    "!{sys.executable} -m pip install alpha_vantage"
   ]
  },
  {
   "cell_type": "code",
   "execution_count": 1,
   "metadata": {},
   "outputs": [],
   "source": [
    "%matplotlib inline\n",
    "from alpha_vantage.timeseries import TimeSeries\n",
    "from alpha_vantage.techindicators import TechIndicators\n",
    "from alpha_vantage.sectorperformance import SectorPerformances\n",
    "from alpha_vantage.cryptocurrencies import CryptoCurrencies\n",
    "from alpha_vantage.foreignexchange import ForeignExchange\n",
    "import matplotlib\n",
    "import matplotlib.pyplot as plt\n",
    "import os\n",
    "from pprint import pprint\n",
    "# Make plots bigger\n",
    "matplotlib.rcParams['figure.figsize'] = (20.0, 10.0)"
   ]
  },
  {
   "cell_type": "code",
   "execution_count": 2,
   "metadata": {},
   "outputs": [],
   "source": [
    "API_KEY = 'OIOFADOM1RW053KF'"
   ]
  },
  {
   "cell_type": "code",
   "execution_count": 3,
   "metadata": {},
   "outputs": [],
   "source": [
    "ts = TimeSeries(key=API_KEY, output_format='pandas')"
   ]
  },
  {
   "cell_type": "code",
   "execution_count": 4,
   "metadata": {},
   "outputs": [],
   "source": [
    "data, meta_data = ts.get_intraday(symbol='MSFT',interval='1min', outputsize='full')"
   ]
  },
  {
   "cell_type": "code",
   "execution_count": 9,
   "metadata": {},
   "outputs": [
    {
     "data": {
      "text/html": [
       "<div>\n",
       "<style scoped>\n",
       "    .dataframe tbody tr th:only-of-type {\n",
       "        vertical-align: middle;\n",
       "    }\n",
       "\n",
       "    .dataframe tbody tr th {\n",
       "        vertical-align: top;\n",
       "    }\n",
       "\n",
       "    .dataframe thead th {\n",
       "        text-align: right;\n",
       "    }\n",
       "</style>\n",
       "<table border=\"1\" class=\"dataframe\">\n",
       "  <thead>\n",
       "    <tr style=\"text-align: right;\">\n",
       "      <th></th>\n",
       "      <th>1. open</th>\n",
       "      <th>2. high</th>\n",
       "      <th>3. low</th>\n",
       "      <th>4. close</th>\n",
       "      <th>5. volume</th>\n",
       "    </tr>\n",
       "  </thead>\n",
       "  <tbody>\n",
       "    <tr>\n",
       "      <th>count</th>\n",
       "      <td>1930.000000</td>\n",
       "      <td>1930.000000</td>\n",
       "      <td>1930.000000</td>\n",
       "      <td>1930.000000</td>\n",
       "      <td>1930.000000</td>\n",
       "    </tr>\n",
       "    <tr>\n",
       "      <th>mean</th>\n",
       "      <td>137.524252</td>\n",
       "      <td>137.554162</td>\n",
       "      <td>137.492880</td>\n",
       "      <td>137.522505</td>\n",
       "      <td>45504.189119</td>\n",
       "    </tr>\n",
       "    <tr>\n",
       "      <th>std</th>\n",
       "      <td>1.253166</td>\n",
       "      <td>1.248609</td>\n",
       "      <td>1.257058</td>\n",
       "      <td>1.252794</td>\n",
       "      <td>54910.036609</td>\n",
       "    </tr>\n",
       "    <tr>\n",
       "      <th>min</th>\n",
       "      <td>134.714200</td>\n",
       "      <td>134.740000</td>\n",
       "      <td>134.670000</td>\n",
       "      <td>134.715000</td>\n",
       "      <td>2037.000000</td>\n",
       "    </tr>\n",
       "    <tr>\n",
       "      <th>25%</th>\n",
       "      <td>136.940000</td>\n",
       "      <td>136.970000</td>\n",
       "      <td>136.915000</td>\n",
       "      <td>136.935000</td>\n",
       "      <td>21778.250000</td>\n",
       "    </tr>\n",
       "    <tr>\n",
       "      <th>50%</th>\n",
       "      <td>137.390100</td>\n",
       "      <td>137.430000</td>\n",
       "      <td>137.365000</td>\n",
       "      <td>137.390000</td>\n",
       "      <td>33912.500000</td>\n",
       "    </tr>\n",
       "    <tr>\n",
       "      <th>75%</th>\n",
       "      <td>138.760000</td>\n",
       "      <td>138.780000</td>\n",
       "      <td>138.740000</td>\n",
       "      <td>138.760000</td>\n",
       "      <td>52068.500000</td>\n",
       "    </tr>\n",
       "    <tr>\n",
       "      <th>max</th>\n",
       "      <td>139.341000</td>\n",
       "      <td>139.540000</td>\n",
       "      <td>139.250000</td>\n",
       "      <td>139.310000</td>\n",
       "      <td>842265.000000</td>\n",
       "    </tr>\n",
       "  </tbody>\n",
       "</table>\n",
       "</div>"
      ],
      "text/plain": [
       "           1. open      2. high       3. low     4. close      5. volume\n",
       "count  1930.000000  1930.000000  1930.000000  1930.000000    1930.000000\n",
       "mean    137.524252   137.554162   137.492880   137.522505   45504.189119\n",
       "std       1.253166     1.248609     1.257058     1.252794   54910.036609\n",
       "min     134.714200   134.740000   134.670000   134.715000    2037.000000\n",
       "25%     136.940000   136.970000   136.915000   136.935000   21778.250000\n",
       "50%     137.390100   137.430000   137.365000   137.390000   33912.500000\n",
       "75%     138.760000   138.780000   138.740000   138.760000   52068.500000\n",
       "max     139.341000   139.540000   139.250000   139.310000  842265.000000"
      ]
     },
     "execution_count": 9,
     "metadata": {},
     "output_type": "execute_result"
    }
   ],
   "source": [
    "data.describe()"
   ]
  },
  {
   "cell_type": "code",
   "execution_count": 12,
   "metadata": {},
   "outputs": [
    {
     "data": {
      "text/html": [
       "<div>\n",
       "<style scoped>\n",
       "    .dataframe tbody tr th:only-of-type {\n",
       "        vertical-align: middle;\n",
       "    }\n",
       "\n",
       "    .dataframe tbody tr th {\n",
       "        vertical-align: top;\n",
       "    }\n",
       "\n",
       "    .dataframe thead th {\n",
       "        text-align: right;\n",
       "    }\n",
       "</style>\n",
       "<table border=\"1\" class=\"dataframe\">\n",
       "  <thead>\n",
       "    <tr style=\"text-align: right;\">\n",
       "      <th></th>\n",
       "      <th>1. open</th>\n",
       "      <th>2. high</th>\n",
       "      <th>3. low</th>\n",
       "      <th>4. close</th>\n",
       "      <th>5. volume</th>\n",
       "    </tr>\n",
       "    <tr>\n",
       "      <th>date</th>\n",
       "      <th></th>\n",
       "      <th></th>\n",
       "      <th></th>\n",
       "      <th></th>\n",
       "      <th></th>\n",
       "    </tr>\n",
       "  </thead>\n",
       "  <tbody>\n",
       "    <tr>\n",
       "      <th>2019-07-12 09:31:00</th>\n",
       "      <td>138.85</td>\n",
       "      <td>138.95</td>\n",
       "      <td>138.70</td>\n",
       "      <td>138.8000</td>\n",
       "      <td>518633.0</td>\n",
       "    </tr>\n",
       "    <tr>\n",
       "      <th>2019-07-12 09:32:00</th>\n",
       "      <td>138.81</td>\n",
       "      <td>138.95</td>\n",
       "      <td>138.74</td>\n",
       "      <td>138.9450</td>\n",
       "      <td>62986.0</td>\n",
       "    </tr>\n",
       "    <tr>\n",
       "      <th>2019-07-12 09:33:00</th>\n",
       "      <td>138.96</td>\n",
       "      <td>139.00</td>\n",
       "      <td>138.91</td>\n",
       "      <td>138.9118</td>\n",
       "      <td>120996.0</td>\n",
       "    </tr>\n",
       "    <tr>\n",
       "      <th>2019-07-12 09:34:00</th>\n",
       "      <td>138.90</td>\n",
       "      <td>139.00</td>\n",
       "      <td>138.83</td>\n",
       "      <td>138.9800</td>\n",
       "      <td>72908.0</td>\n",
       "    </tr>\n",
       "    <tr>\n",
       "      <th>2019-07-12 09:35:00</th>\n",
       "      <td>138.97</td>\n",
       "      <td>139.00</td>\n",
       "      <td>138.80</td>\n",
       "      <td>138.8901</td>\n",
       "      <td>81043.0</td>\n",
       "    </tr>\n",
       "  </tbody>\n",
       "</table>\n",
       "</div>"
      ],
      "text/plain": [
       "                     1. open  2. high  3. low  4. close  5. volume\n",
       "date                                                              \n",
       "2019-07-12 09:31:00   138.85   138.95  138.70  138.8000   518633.0\n",
       "2019-07-12 09:32:00   138.81   138.95  138.74  138.9450    62986.0\n",
       "2019-07-12 09:33:00   138.96   139.00  138.91  138.9118   120996.0\n",
       "2019-07-12 09:34:00   138.90   139.00  138.83  138.9800    72908.0\n",
       "2019-07-12 09:35:00   138.97   139.00  138.80  138.8901    81043.0"
      ]
     },
     "execution_count": 12,
     "metadata": {},
     "output_type": "execute_result"
    }
   ],
   "source": [
    "data.head()"
   ]
  },
  {
   "cell_type": "code",
   "execution_count": 28,
   "metadata": {},
   "outputs": [
    {
     "data": {
      "image/png": "[encoded data removed]",
      "text/plain": [
       "<Figure size 432x288 with 2 Axes>"
      ]
     },
     "metadata": {
      "needs_background": "light"
     },
     "output_type": "display_data"
    }
   ],
   "source": [
    "fig, ax1 = plt.subplots()\n",
    "\n",
    "color = 'tab:red'\n",
    "ax1.set_xlabel('time (s)')\n",
    "ax1.set_ylabel('close', color=color)\n",
    "ax1.plot(data.index.values, data['4. close'], color=color)\n",
    "ax1.tick_params(axis='y', labelcolor=color)\n",
    "\n",
    "ax2 = ax1.twinx()  # instantiate a second axes that shares the same x-axis\n",
    "\n",
    "color = 'tab:blue'\n",
    "ax2.set_ylabel('volume', color=color)  # we already handled the x-label with ax1\n",
    "ax2.plot(data.index.values, data['5. volume'], color=color)\n",
    "ax2.tick_params(axis='y', labelcolor=color)\n",
    "\n",
    "fig.tight_layout()  # otherwise the right y-label is slightly clipped\n",
    "plt.show()"
   ]
  },
  {
   "cell_type": "code",
   "execution_count": 32,
   "metadata": {},
   "outputs": [],
   "source": [
    "cc = ForeignExchange(key=API_KEY)"
   ]
  },
  {
   "cell_type": "code",
   "execution_count": 37,
   "metadata": {},
   "outputs": [
    {
     "name": "stdout",
     "output_type": "stream",
     "text": [
      "{'1. From_Currency Code': 'AUD',\n",
      " '2. From_Currency Name': 'Australian Dollar',\n",
      " '3. To_Currency Code': 'USD',\n",
      " '4. To_Currency Name': 'United States Dollar',\n",
      " '5. Exchange Rate': '0.70190000',\n",
      " '6. Last Refreshed': '2019-07-13 13:32:47',\n",
      " '7. Time Zone': 'UTC',\n",
      " '8. Bid Price': '0.70150000',\n",
      " '9. Ask Price': '0.70240000'}\n"
     ]
    }
   ],
   "source": [
    "data, _ = cc.get_currency_exchange_rate(from_currency='AUD',to_currency='USD')\n",
    "pprint(data)"
   ]
  },
  {
   "cell_type": "code",
   "execution_count": 38,
   "metadata": {},
   "outputs": [
    {
     "name": "stdout",
     "output_type": "stream",
     "text": [
      "{'1. From_Currency Code': 'AUD',\n",
      " '2. From_Currency Name': 'Australian Dollar',\n",
      " '3. To_Currency Code': 'USD',\n",
      " '4. To_Currency Name': 'United States Dollar',\n",
      " '5. Exchange Rate': '0.70190000',\n",
      " '6. Last Refreshed': '2019-07-13 13:32:53',\n",
      " '7. Time Zone': 'UTC',\n",
      " '8. Bid Price': '0.70150000',\n",
      " '9. Ask Price': '0.70240000'}\n"
     ]
    }
   ],
   "source": [
    "data, _ = cc.get_currency_exchange_rate(from_currency='AUD',to_currency='USD')\n",
    "pprint(data)"
   ]
  },
  {
   "cell_type": "code",
   "execution_count": null,
   "metadata": {},
   "outputs": [],
   "source": []
  }
 ],
 "metadata": {
  "kernelspec": {
   "display_name": "Python 3",
   "language": "python",
   "name": "python3"
  },
  "language_info": {
   "codemirror_mode": {
    "name": "ipython",
    "version": 3
   },
   "file_extension": ".py",
   "mimetype": "text/x-python",
   "name": "python",
   "nbconvert_exporter": "python",
   "pygments_lexer": "ipython3",
   "version": "3.6.8"
  }
 },
 "nbformat": 4,
 "nbformat_minor": 2
}
